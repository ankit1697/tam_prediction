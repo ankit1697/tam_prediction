{
 "cells": [
  {
   "cell_type": "markdown",
   "id": "8730c110",
   "metadata": {},
   "source": [
    "<h2>TAM Predicition</h2>\n",
    "\n",
    "\n",
    "<b>Total Addressable Market:</b> Represents revenue opportunity at 100% market share, as if no competition exists\n",
    "\n",
    "<p><b> Example: </b>An automobile mechanic business services new models of a major car company. The major car company sells approximately 14 million new models per year in the U.S. The mechanic business targets customers in their first year of ownership, so the TAM is 14 million models</p>"
   ]
  },
  {
   "cell_type": "markdown",
   "id": "24484d12",
   "metadata": {},
   "source": [
    "<h3> Importing Libraries</h3>"
   ]
  },
  {
   "cell_type": "code",
   "execution_count": 27,
   "id": "bec79436",
   "metadata": {
    "ExecuteTime": {
     "end_time": "2023-10-04T07:35:37.793962Z",
     "start_time": "2023-10-04T07:35:37.478953Z"
    }
   },
   "outputs": [],
   "source": [
    "import pandas as pd\n",
    "import numpy as np\n",
    "from tqdm import tqdm\n",
    "import pickle\n",
    "import h3\n",
    "\n",
    "import geopandas as gpd\n",
    "from keplergl import KeplerGl\n",
    "import pickle\n",
    "\n",
    "import warnings\n",
    "warnings.filterwarnings('ignore')\n",
    "\n",
    "from sklearn.preprocessing import StandardScaler\n",
    "\n",
    "from sklearn.linear_model import Lasso\n",
    "from sklearn.metrics import r2_score, mean_absolute_error as mae\n"
   ]
  },
  {
   "cell_type": "markdown",
   "id": "d101816b",
   "metadata": {},
   "source": [
    "<h3>Bookings data</h3>\n",
    "\n",
    "<p> Contains the information about the user, and the bookings made by them in a particular outlet</p>\n",
    "<p> Also contains the latitude and longitude from where the bookings were made</p>"
   ]
  },
  {
   "cell_type": "code",
   "execution_count": 1,
   "id": "31f51235",
   "metadata": {
    "ExecuteTime": {
     "end_time": "2023-10-04T07:34:59.824450Z",
     "start_time": "2023-10-04T07:34:59.327652Z"
    }
   },
   "outputs": [],
   "source": [
    "with open('all_bookings.pkl','rb') as f:\n",
    "    data = pickle.load(f)\n",
    "\n",
    "data['user'] = client_data['user'].astype(str)"
   ]
  },
  {
   "cell_type": "code",
   "execution_count": 2,
   "id": "afd12344",
   "metadata": {
    "ExecuteTime": {
     "end_time": "2023-10-04T06:30:47.016423Z",
     "start_time": "2023-10-04T06:30:32.203061Z"
    }
   },
   "outputs": [
    {
     "data": {
      "text/plain": [
       "((19684381, 11), 19684381, 407360)"
      ]
     },
     "execution_count": 2,
     "metadata": {},
     "output_type": "execute_result"
    }
   ],
   "source": [
    "data.shape, data['booking_number'].nunique(), data['user'].nunique()"
   ]
  },
  {
   "cell_type": "code",
   "execution_count": 1,
   "id": "42c6ecb3",
   "metadata": {
    "ExecuteTime": {
     "end_time": "2023-10-03T12:11:40.634627Z",
     "start_time": "2023-10-03T12:11:39.849503Z"
    }
   },
   "outputs": [],
   "source": [
    "data['type'].value_counts()"
   ]
  },
  {
   "cell_type": "code",
   "execution_count": 2,
   "id": "4ba686a3",
   "metadata": {
    "ExecuteTime": {
     "end_time": "2023-10-03T11:52:49.128151Z",
     "start_time": "2023-10-03T11:52:47.981983Z"
    }
   },
   "outputs": [],
   "source": [
    "data['status'].value_counts()"
   ]
  },
  {
   "cell_type": "code",
   "execution_count": 3,
   "id": "518dc7b8",
   "metadata": {
    "ExecuteTime": {
     "end_time": "2023-10-04T06:18:55.950122Z",
     "start_time": "2023-10-04T06:18:55.087386Z"
    }
   },
   "outputs": [],
   "source": [
    "data['category'].value_counts()"
   ]
  },
  {
   "cell_type": "code",
   "execution_count": 3,
   "id": "dcd4e366",
   "metadata": {
    "ExecuteTime": {
     "end_time": "2023-10-04T06:31:01.044482Z",
     "start_time": "2023-10-04T06:30:55.328478Z"
    }
   },
   "outputs": [],
   "source": [
    "data = client_data[(data['status']=='ACTIVE') & (data['type']!='waitlist')]"
   ]
  },
  {
   "cell_type": "markdown",
   "id": "23213100",
   "metadata": {},
   "source": [
    "<h3> Features</h3>\n",
    "\n",
    "<p> Features created at a Hex level to be used in the model</p> "
   ]
  },
  {
   "cell_type": "code",
   "execution_count": 24,
   "id": "e3692288",
   "metadata": {},
   "outputs": [],
   "source": [
    "features = pd.read_csv('features.csv')"
   ]
  },
  {
   "cell_type": "markdown",
   "id": "ff937df8",
   "metadata": {},
   "source": [
    "<h3>Outlet data</h3>\n",
    "\n",
    "<p> Contains the outlet level information such as category, latitude, longitude, revenue, area, etc.</p>"
   ]
  },
  {
   "cell_type": "code",
   "execution_count": 2,
   "id": "a654afe0",
   "metadata": {
    "ExecuteTime": {
     "end_time": "2023-10-04T07:35:04.568692Z",
     "start_time": "2023-10-04T07:35:04.556452Z"
    }
   },
   "outputs": [],
   "source": [
    "center_loc = pd.read_csv('store_revenues.csv')\n",
    "center_loc = center_loc[center_loc['city']=='Bangalore']\n",
    "\n",
    "center_loc['services'] = center_loc['services'].str.upper()"
   ]
  },
  {
   "cell_type": "markdown",
   "id": "9c7a8265",
   "metadata": {},
   "source": [
    "<h4> Merging the bookings and outlets data, in order to keep only the records for which outlet information is available</h4>"
   ]
  },
  {
   "cell_type": "code",
   "execution_count": 18,
   "id": "3b553c1d",
   "metadata": {
    "ExecuteTime": {
     "end_time": "2023-10-04T06:31:38.741758Z",
     "start_time": "2023-10-04T06:31:34.550588Z"
    }
   },
   "outputs": [],
   "source": [
    "model_data = data.merge(center_loc,on='center_id')"
   ]
  },
  {
   "cell_type": "code",
   "execution_count": 19,
   "id": "a23fff7b",
   "metadata": {
    "ExecuteTime": {
     "end_time": "2023-10-04T06:31:59.001453Z",
     "start_time": "2023-10-04T06:31:41.144499Z"
    }
   },
   "outputs": [
    {
     "data": {
      "text/plain": [
       "((15305008, 18), 15305008, 334291)"
      ]
     },
     "execution_count": 19,
     "metadata": {},
     "output_type": "execute_result"
    }
   ],
   "source": [
    "model_data.shape, model_data['booking_number'].nunique(), model_data['user'].nunique()"
   ]
  },
  {
   "cell_type": "code",
   "execution_count": 20,
   "id": "f4140673",
   "metadata": {
    "ExecuteTime": {
     "end_time": "2023-10-04T06:32:13.029788Z",
     "start_time": "2023-10-04T06:32:12.977595Z"
    }
   },
   "outputs": [
    {
     "data": {
      "text/plain": [
       "112"
      ]
     },
     "execution_count": 20,
     "metadata": {},
     "output_type": "execute_result"
    }
   ],
   "source": [
    "model_data['center_id'].nunique()"
   ]
  },
  {
   "cell_type": "markdown",
   "id": "675d41f8",
   "metadata": {},
   "source": [
    "<h3> User location data</h3>\n",
    "\n",
    "<p> As maximum number of bookings happen within a close vicinity of an outlet, we need the home latitude and longitude of a user, to understand where they live</p>"
   ]
  },
  {
   "cell_type": "code",
   "execution_count": 21,
   "id": "90c02c3e",
   "metadata": {
    "ExecuteTime": {
     "end_time": "2023-10-04T06:32:21.179037Z",
     "start_time": "2023-10-04T06:32:21.028627Z"
    }
   },
   "outputs": [],
   "source": [
    "ll = pd.read_csv('lat_lngs.csv')"
   ]
  },
  {
   "cell_type": "code",
   "execution_count": 22,
   "id": "12126da8",
   "metadata": {
    "ExecuteTime": {
     "end_time": "2023-10-04T06:32:22.000520Z",
     "start_time": "2023-10-04T06:32:21.942301Z"
    }
   },
   "outputs": [
    {
     "data": {
      "text/plain": [
       "((125200, 3), 125200)"
      ]
     },
     "execution_count": 22,
     "metadata": {},
     "output_type": "execute_result"
    }
   ],
   "source": [
    "ll.shape, ll['user'].nunique()"
   ]
  },
  {
   "cell_type": "markdown",
   "id": "d835a673",
   "metadata": {},
   "source": [
    "<h3>Model data</h3>\n",
    "\n",
    "<p> Only keeping the bookings of users for which home location is available</p>"
   ]
  },
  {
   "cell_type": "code",
   "execution_count": 23,
   "id": "a9d50ddc",
   "metadata": {
    "ExecuteTime": {
     "end_time": "2023-10-04T06:32:32.078952Z",
     "start_time": "2023-10-04T06:32:25.380457Z"
    }
   },
   "outputs": [],
   "source": [
    "model_data = model_data[model_data['user'].isin(ll['user'])]"
   ]
  },
  {
   "cell_type": "code",
   "execution_count": 25,
   "id": "9931207b",
   "metadata": {
    "ExecuteTime": {
     "end_time": "2023-10-04T06:33:01.552307Z",
     "start_time": "2023-10-04T06:32:56.787285Z"
    }
   },
   "outputs": [],
   "source": [
    "model_data = model_data.merge(ll,on='user')"
   ]
  },
  {
   "cell_type": "code",
   "execution_count": 26,
   "id": "1d654446",
   "metadata": {
    "ExecuteTime": {
     "end_time": "2023-10-04T06:33:12.549401Z",
     "start_time": "2023-10-04T06:33:02.514034Z"
    }
   },
   "outputs": [
    {
     "data": {
      "text/plain": [
       "((7374166, 20), 7374166, 111379)"
      ]
     },
     "execution_count": 26,
     "metadata": {},
     "output_type": "execute_result"
    }
   ],
   "source": [
    "model_data.shape, model_data['booking_number'].nunique(), model_data['user'].nunique()"
   ]
  },
  {
   "cell_type": "markdown",
   "id": "b7ea37a5",
   "metadata": {},
   "source": [
    "<h3>Hex level data</h3>\n",
    "\n",
    "<p>Creating H3 hexes for the available latitudes and longitudes</p>"
   ]
  },
  {
   "cell_type": "code",
   "execution_count": 191,
   "id": "c0757b62",
   "metadata": {
    "ExecuteTime": {
     "end_time": "2023-10-04T10:44:48.801505Z",
     "start_time": "2023-10-04T10:43:40.003567Z"
    }
   },
   "outputs": [],
   "source": [
    "model_data['hex9'] = model_data.apply(lambda x: h3.geo_to_h3(x['lat'],x['lng'],resolution=9),axis=1)"
   ]
  },
  {
   "cell_type": "code",
   "execution_count": 192,
   "id": "22e8f901",
   "metadata": {
    "ExecuteTime": {
     "end_time": "2023-10-04T10:45:06.973796Z",
     "start_time": "2023-10-04T10:45:06.962051Z"
    }
   },
   "outputs": [],
   "source": [
    "center_loc['hex9'] = center_loc.apply(lambda x: h3.geo_to_h3(x['latitude'],x['longitude'],resolution=9),axis=1)\n",
    "center_loc['hex_rings'] = center_loc['hex9'].apply(lambda x: h3.k_ring(x))"
   ]
  },
  {
   "cell_type": "code",
   "execution_count": 193,
   "id": "996bb8b1",
   "metadata": {
    "ExecuteTime": {
     "end_time": "2023-10-04T10:45:07.137566Z",
     "start_time": "2023-10-04T10:45:07.129305Z"
    }
   },
   "outputs": [],
   "source": [
    "hex_rings = center_loc.explode(column='hex_rings').reset_index(drop=True)"
   ]
  },
  {
   "cell_type": "markdown",
   "id": "e189cc3e",
   "metadata": {},
   "source": [
    "<h4> Removing the bookings from the outlet hex, and the hexes around the outlet, in order to remove the outliers in the number of bookings</h4>"
   ]
  },
  {
   "cell_type": "code",
   "execution_count": 194,
   "id": "d464427f",
   "metadata": {
    "ExecuteTime": {
     "end_time": "2023-10-04T10:45:11.409357Z",
     "start_time": "2023-10-04T10:45:08.501201Z"
    }
   },
   "outputs": [],
   "source": [
    "model_data = model_data[~model_data['hex9'].isin(hex_rings['hex_rings'])]"
   ]
  },
  {
   "cell_type": "code",
   "execution_count": 195,
   "id": "58d72981",
   "metadata": {
    "ExecuteTime": {
     "end_time": "2023-10-04T10:45:14.219510Z",
     "start_time": "2023-10-04T10:45:11.411721Z"
    }
   },
   "outputs": [
    {
     "data": {
      "text/plain": [
       "((4870063, 21), 4870063, 72866, 112)"
      ]
     },
     "execution_count": 195,
     "metadata": {},
     "output_type": "execute_result"
    }
   ],
   "source": [
    "model_data.shape, model_data['booking_number'].nunique(), model_data['user'].nunique(), model_data['center_id'].nunique()"
   ]
  },
  {
   "cell_type": "markdown",
   "id": "1a0e05a8",
   "metadata": {},
   "source": [
    "<h3>Aggregating data</h3>\n",
    "\n",
    "<p>Aggregate the bookings on Hex 9 level</p>"
   ]
  },
  {
   "cell_type": "code",
   "execution_count": 218,
   "id": "beb5d484",
   "metadata": {
    "ExecuteTime": {
     "end_time": "2023-10-04T10:48:51.167907Z",
     "start_time": "2023-10-04T10:48:47.745051Z"
    }
   },
   "outputs": [
    {
     "data": {
      "text/plain": [
       "(6091, 3)"
      ]
     },
     "execution_count": 218,
     "metadata": {},
     "output_type": "execute_result"
    }
   ],
   "source": [
    "model_data = model_data.groupby(['hex9'])['booking_number','user'].nunique().reset_index()\n",
    "model_data.shape"
   ]
  },
  {
   "cell_type": "code",
   "execution_count": 219,
   "id": "868a1eae",
   "metadata": {
    "ExecuteTime": {
     "end_time": "2023-10-04T10:48:59.901540Z",
     "start_time": "2023-10-04T10:48:59.795713Z"
    }
   },
   "outputs": [
    {
     "data": {
      "text/plain": [
       "(14752, 603)"
      ]
     },
     "execution_count": 219,
     "metadata": {},
     "output_type": "execute_result"
    }
   ],
   "source": [
    "# Outer join as we need to keep empty hexes as well, \n",
    "# because a hex with no booking maybe worth looking into\n",
    "\n",
    "model_data = model_data.merge(features,on='hex9',how='outer').reset_index(drop=True)\n",
    "\n",
    "model_data['booking_number'].fillna(0, inplace=True)\n",
    "model_data['user'].fillna(0, inplace=True)\n",
    "\n",
    "model_data = model_data.dropna().reset_index(drop=True)\n",
    "model_data.shape"
   ]
  },
  {
   "cell_type": "code",
   "execution_count": 220,
   "id": "2c721fff",
   "metadata": {
    "ExecuteTime": {
     "end_time": "2023-10-04T10:49:03.916091Z",
     "start_time": "2023-10-04T10:49:03.890792Z"
    }
   },
   "outputs": [],
   "source": [
    "model_data = model_data[~model_data['hex9'].isin(hex_rings['hex_rings'])].reset_index(drop=True)"
   ]
  },
  {
   "cell_type": "markdown",
   "id": "4c4be212",
   "metadata": {},
   "source": [
    "<h4> Creating a circle around the outlet location of 2km radius</h4>\n",
    "\n",
    "<p> We do this in order to only use the bookings within a 2km radius of an outlet, as that is the \n",
    "    area the TAM would reside, serviceable for a particular outlet</p>"
   ]
  },
  {
   "cell_type": "code",
   "execution_count": 222,
   "id": "6f8d2282",
   "metadata": {
    "ExecuteTime": {
     "end_time": "2023-10-04T10:49:10.884829Z",
     "start_time": "2023-10-04T10:49:10.851060Z"
    }
   },
   "outputs": [],
   "source": [
    "center_loc = gpd.GeoDataFrame(center_loc, geometry=gpd.points_from_xy(center_loc.longitude,\n",
    "                                                                     center_loc.latitude),crs={'init':'epsg:4326'})\n",
    "\n",
    "center_loc = center_loc.to_crs({'init':'epsg:3857'})\n",
    "center_loc['geometry'] = center_loc['geometry'].buffer(2000)\n",
    "center_loc = center_loc.to_crs({'init':'epsg:4326'})"
   ]
  },
  {
   "cell_type": "code",
   "execution_count": 223,
   "id": "49f8358a",
   "metadata": {
    "ExecuteTime": {
     "end_time": "2023-10-04T10:49:11.070236Z",
     "start_time": "2023-10-04T10:49:11.029303Z"
    }
   },
   "outputs": [],
   "source": [
    "model_data['lat'] = model_data['hex9'].apply(lambda x: h3.h3_to_geo(x)[0])\n",
    "model_data['lng'] = model_data['hex9'].apply(lambda x: h3.h3_to_geo(x)[1])\n",
    "\n",
    "model_data = gpd.GeoDataFrame(model_data, geometry=gpd.points_from_xy(model_data.lng,\n",
    "                                                                                 model_data.lat), crs={'init':'epsg:4326'})\n"
   ]
  },
  {
   "cell_type": "markdown",
   "id": "71a08971",
   "metadata": {},
   "source": [
    "<h4> Keeping the hexs, the centroid of which lie within the 2km circle of an outler</h4>"
   ]
  },
  {
   "cell_type": "code",
   "execution_count": 224,
   "id": "195ed805",
   "metadata": {
    "ExecuteTime": {
     "end_time": "2023-10-04T10:49:11.626744Z",
     "start_time": "2023-10-04T10:49:11.301170Z"
    }
   },
   "outputs": [],
   "source": [
    "new_model_data = gpd.sjoin(model_data,center_loc.rename(columns={'hex9':'center_hex9'}))\n",
    "\n",
    "new_model_data = new_model_data.drop_duplicates(subset='hex9',keep='first').reset_index(drop=True)"
   ]
  },
  {
   "cell_type": "code",
   "execution_count": 225,
   "id": "06a26950",
   "metadata": {
    "ExecuteTime": {
     "end_time": "2023-10-04T10:49:12.597757Z",
     "start_time": "2023-10-04T10:49:12.592158Z"
    }
   },
   "outputs": [
    {
     "data": {
      "text/plain": [
       "((4529, 617), 4529)"
      ]
     },
     "execution_count": 225,
     "metadata": {},
     "output_type": "execute_result"
    }
   ],
   "source": [
    "new_model_data.shape, new_model_data['hex9'].nunique()"
   ]
  },
  {
   "cell_type": "markdown",
   "id": "730464a9",
   "metadata": {},
   "source": [
    "<h3> Regression</h3>\n",
    "\n",
    "<p> A regresission model is used to estimate the number of bookings at a Hex level, subsequently, normalizing the predictions for the TAM</p>"
   ]
  },
  {
   "cell_type": "code",
   "execution_count": 226,
   "id": "9473a623",
   "metadata": {
    "ExecuteTime": {
     "end_time": "2023-10-04T10:49:16.370718Z",
     "start_time": "2023-10-04T10:49:16.212266Z"
    }
   },
   "outputs": [
    {
     "data": {
      "text/plain": [
       "<AxesSubplot:>"
      ]
     },
     "execution_count": 226,
     "metadata": {},
     "output_type": "execute_result"
    },
    {
     "data": {
      "image/png": "[encoded data removed]",
      "text/plain": [
       "<Figure size 432x288 with 1 Axes>"
      ]
     },
     "metadata": {
      "needs_background": "light"
     },
     "output_type": "display_data"
    }
   ],
   "source": [
    "new_model_data['booking_number'].hist(bins=60)"
   ]
  },
  {
   "cell_type": "code",
   "execution_count": 227,
   "id": "28683199",
   "metadata": {
    "ExecuteTime": {
     "end_time": "2023-10-04T10:49:17.452327Z",
     "start_time": "2023-10-04T10:49:17.447076Z"
    }
   },
   "outputs": [
    {
     "data": {
      "text/plain": [
       "3370.9999999999945"
      ]
     },
     "execution_count": 227,
     "metadata": {},
     "output_type": "execute_result"
    }
   ],
   "source": [
    "outlier = new_model_data['booking_number'].quantile(0.95)\n",
    "outlier"
   ]
  },
  {
   "cell_type": "code",
   "execution_count": 228,
   "id": "95891025",
   "metadata": {
    "ExecuteTime": {
     "end_time": "2023-10-04T10:49:19.000068Z",
     "start_time": "2023-10-04T10:49:18.994862Z"
    }
   },
   "outputs": [],
   "source": [
    "new_model_data['booking_number'] = np.where(new_model_data['booking_number']>outlier,outlier,new_model_data['booking_number'])\n"
   ]
  },
  {
   "cell_type": "markdown",
   "id": "dda9e08c",
   "metadata": {},
   "source": [
    "<h4> As the data is skewed, taking a log transform</h4>"
   ]
  },
  {
   "cell_type": "code",
   "execution_count": 229,
   "id": "240f5b38",
   "metadata": {
    "ExecuteTime": {
     "end_time": "2023-10-04T10:49:19.415169Z",
     "start_time": "2023-10-04T10:49:19.273913Z"
    }
   },
   "outputs": [
    {
     "data": {
      "text/plain": [
       "<AxesSubplot:>"
      ]
     },
     "execution_count": 229,
     "metadata": {},
     "output_type": "execute_result"
    },
    {
     "data": {
      "image/png": "[encoded data removed]",
      "text/plain": [
       "<Figure size 432x288 with 1 Axes>"
      ]
     },
     "metadata": {
      "needs_background": "light"
     },
     "output_type": "display_data"
    }
   ],
   "source": [
    "np.log(new_model_data['booking_number']+1).hist(bins=60)"
   ]
  },
  {
   "cell_type": "code",
   "execution_count": 230,
   "id": "28896aa0",
   "metadata": {
    "ExecuteTime": {
     "end_time": "2023-10-04T10:49:20.977462Z",
     "start_time": "2023-10-04T10:49:20.962465Z"
    }
   },
   "outputs": [],
   "source": [
    "new_model_data['hex_lat'] = new_model_data['hex9'].apply(lambda x: h3.h3_to_geo(x)[0])\n",
    "new_model_data['hex_lng'] = new_model_data['hex9'].apply(lambda x: h3.h3_to_geo(x)[1])"
   ]
  },
  {
   "cell_type": "markdown",
   "id": "70d585b4",
   "metadata": {},
   "source": [
    "<h4> Creating a 'distance' feature between the centroid of the Hex and the outlet location</h4>\n",
    "\n",
    "<p> This helps us understand if being farther away from an outlet impacts the bookings</p>"
   ]
  },
  {
   "cell_type": "code",
   "execution_count": 231,
   "id": "a40fc41b",
   "metadata": {
    "ExecuteTime": {
     "end_time": "2023-10-04T10:49:21.580745Z",
     "start_time": "2023-10-04T10:49:21.248793Z"
    }
   },
   "outputs": [],
   "source": [
    "new_model_data['distance'] = new_model_data.apply(lambda x: haversine(x['longitude'],x['latitude'],x['hex_lng'],x['hex_lat']),axis=1)\n"
   ]
  },
  {
   "cell_type": "code",
   "execution_count": 236,
   "id": "55631c68",
   "metadata": {
    "ExecuteTime": {
     "end_time": "2023-10-04T10:49:41.052395Z",
     "start_time": "2023-10-04T10:49:41.048660Z"
    }
   },
   "outputs": [],
   "source": [
    "new_model_data['log_dv'] = np.log(new_model_data['booking_key']+1)"
   ]
  },
  {
   "cell_type": "code",
   "execution_count": 239,
   "id": "feeea325",
   "metadata": {
    "ExecuteTime": {
     "end_time": "2023-10-04T10:49:53.194331Z",
     "start_time": "2023-10-04T10:49:53.061168Z"
    }
   },
   "outputs": [
    {
     "name": "stdout",
     "output_type": "stream",
     "text": [
      "0.5017755798227332 0.5015005556712534\n",
      "0.5017755798227332 0.5015005556712534\n",
      "31\n"
     ]
    }
   ],
   "source": [
    "to_drop = ['feature_39', 'feature_5', 'feature_26', 'feature_25', 'feature_32', 'feature_34', 'feature_2',\n",
    "'feature_12','feature_21', 'feature_7', 'feature_24', 'feature_7', 'feature_29', 'feature_2', 'feature_6',\n",
    "'feature_12','feature_23', 'feature_22', 'feature_1', 'feature_7', 'feature_8', 'feature_37', 'feature_5',\n",
    "'feature_8','feature_28', 'feature_45', 'feature_13', 'feature_43', 'feature_19', 'feature_18', 'feature_22', \n",
    "'feature_23']\n",
    "\n",
    "\n",
    "feats = new_model_data.drop(to_drop,axis=1).columns.tolist()\n",
    "\n",
    "X = new_model_data[feats]\n",
    "y = new_model_data['log_dv']\n",
    "\n",
    "from sklearn.model_selection import train_test_split\n",
    "X_train, X_holdout, y_train, y_holdout = train_test_split(X, y, test_size=0.2, random_state = 17)\n",
    "\n",
    "X_train_copy = X_train.copy()\n",
    "\n",
    "\n",
    "# standard scale the features\n",
    "\n",
    "scaling_features = StandardScaler()\n",
    "scaling_fit = scaling_features.fit(X_train[feats])\n",
    "X_train_scaled = scaling_fit.transform(X_train[feats])\n",
    "X_train_scaled = pd.DataFrame(X_train_scaled)\n",
    "X_train_scaled.columns = X_train[feats].columns\n",
    "X_train = X_train_scaled\n",
    "\n",
    "X_holdout_scaled = scaling_fit.transform(X_holdout[feats])\n",
    "X_holdout_scaled = pd.DataFrame(X_holdout_scaled)\n",
    "X_holdout_scaled.columns = X_holdout[feats].columns\n",
    "X_holdout = X_holdout_scaled\n",
    "\n",
    "\n",
    "model = Lasso(alpha=0.1, random_state = 17).fit(X_train,y_train)\n",
    "\n",
    "\n",
    "print(r2_score(y_train, model.predict(X_train)), r2_score(y_holdout, model.predict(X_holdout)))\n",
    "print(r2_score(y_train, model.predict(X_train)), r2_score(y_holdout, model.predict(X_holdout)))\n",
    "imp = pd.DataFrame(data={'features':X_train.columns,\n",
    "                   'coef': model.coef_\n",
    "                  }).sort_values(by='coef',ascending=False)\n",
    "print(len(np.round(imp[imp['coef']!=0],5)))"
   ]
  },
  {
   "cell_type": "markdown",
   "id": "caaab83c",
   "metadata": {},
   "source": [
    "<h4> The model achieves a R2 value of 0.5 for both train and test sets at an alpha of 0.1</h4>\n",
    "\n",
    "<p> This shows that the model is robust in nature, needing just 31 features for the training</p>"
   ]
  },
  {
   "cell_type": "code",
   "execution_count": 240,
   "id": "192f3311",
   "metadata": {
    "ExecuteTime": {
     "end_time": "2023-10-04T10:49:55.313879Z",
     "start_time": "2023-10-04T10:49:55.306914Z"
    }
   },
   "outputs": [
    {
     "data": {
      "text/html": [
       "<div>\n",
       "<style scoped>\n",
       "    .dataframe tbody tr th:only-of-type {\n",
       "        vertical-align: middle;\n",
       "    }\n",
       "\n",
       "    .dataframe tbody tr th {\n",
       "        vertical-align: top;\n",
       "    }\n",
       "\n",
       "    .dataframe thead th {\n",
       "        text-align: right;\n",
       "    }\n",
       "</style>\n",
       "<table border=\"1\" class=\"dataframe\">\n",
       "  <thead>\n",
       "    <tr style=\"text-align: right;\">\n",
       "      <th></th>\n",
       "      <th>features</th>\n",
       "      <th>coef</th>\n",
       "    </tr>\n",
       "  </thead>\n",
       "  <tbody>\n",
       "    <tr>\n",
       "      <th>582</th>\n",
       "      <td>bldg_area_total_perc_200</td>\n",
       "      <td>0.602705</td>\n",
       "    </tr>\n",
       "    <tr>\n",
       "      <th>171</th>\n",
       "      <td>cn_fxb_int_spd_d_1000</td>\n",
       "      <td>0.246421</td>\n",
       "    </tr>\n",
       "    <tr>\n",
       "      <th>469</th>\n",
       "      <td>p_residence_ap_nc_200</td>\n",
       "      <td>0.236644</td>\n",
       "    </tr>\n",
       "    <tr>\n",
       "      <th>576</th>\n",
       "      <td>bldg_area_comm_avg_200</td>\n",
       "      <td>0.170584</td>\n",
       "    </tr>\n",
       "    <tr>\n",
       "      <th>404</th>\n",
       "      <td>p_restaurant_cta_200</td>\n",
       "      <td>0.126764</td>\n",
       "    </tr>\n",
       "    <tr>\n",
       "      <th>286</th>\n",
       "      <td>p_residence_ap_nc_500</td>\n",
       "      <td>0.098243</td>\n",
       "    </tr>\n",
       "    <tr>\n",
       "      <th>257</th>\n",
       "      <td>p_entertainment_pk_nc_500</td>\n",
       "      <td>0.095591</td>\n",
       "    </tr>\n",
       "    <tr>\n",
       "      <th>312</th>\n",
       "      <td>p_residence_rs_nc_500</td>\n",
       "      <td>0.094272</td>\n",
       "    </tr>\n",
       "    <tr>\n",
       "      <th>588</th>\n",
       "      <td>bldg_area_total_perc_100</td>\n",
       "      <td>0.070429</td>\n",
       "    </tr>\n",
       "    <tr>\n",
       "      <th>277</th>\n",
       "      <td>p_restaurant_rt_nc_500</td>\n",
       "      <td>0.034911</td>\n",
       "    </tr>\n",
       "    <tr>\n",
       "      <th>303</th>\n",
       "      <td>p_restaurant_fd_nc_500</td>\n",
       "      <td>0.028928</td>\n",
       "    </tr>\n",
       "    <tr>\n",
       "      <th>68</th>\n",
       "      <td>p_residence_ap_nc_1000</td>\n",
       "      <td>0.027200</td>\n",
       "    </tr>\n",
       "    <tr>\n",
       "      <th>107</th>\n",
       "      <td>p_automotive_cw_nc_1000</td>\n",
       "      <td>0.025782</td>\n",
       "    </tr>\n",
       "    <tr>\n",
       "      <th>329</th>\n",
       "      <td>p_education_cc_nc_500</td>\n",
       "      <td>0.022118</td>\n",
       "    </tr>\n",
       "    <tr>\n",
       "      <th>583</th>\n",
       "      <td>bldg_area_comm_avg_100</td>\n",
       "      <td>0.018942</td>\n",
       "    </tr>\n",
       "    <tr>\n",
       "      <th>142</th>\n",
       "      <td>br_salons_cm_nc_1000</td>\n",
       "      <td>0.012483</td>\n",
       "    </tr>\n",
       "    <tr>\n",
       "      <th>572</th>\n",
       "      <td>d_restaurant_cta_200</td>\n",
       "      <td>0.006694</td>\n",
       "    </tr>\n",
       "    <tr>\n",
       "      <th>124</th>\n",
       "      <td>p_restaurant_cm_nc_1000</td>\n",
       "      <td>0.004680</td>\n",
       "    </tr>\n",
       "    <tr>\n",
       "      <th>129</th>\n",
       "      <td>br_school_ch_nc_1000</td>\n",
       "      <td>0.002110</td>\n",
       "    </tr>\n",
       "    <tr>\n",
       "      <th>232</th>\n",
       "      <td>p_restaurant_cf_nc_500</td>\n",
       "      <td>0.001045</td>\n",
       "    </tr>\n",
       "    <tr>\n",
       "      <th>50</th>\n",
       "      <td>p_transit_tr_nc_1000</td>\n",
       "      <td>-0.003373</td>\n",
       "    </tr>\n",
       "    <tr>\n",
       "      <th>333</th>\n",
       "      <td>p_communityservice_ct_nc_500</td>\n",
       "      <td>-0.016716</td>\n",
       "    </tr>\n",
       "    <tr>\n",
       "      <th>578</th>\n",
       "      <td>bldg_area_total_avg_200</td>\n",
       "      <td>-0.022980</td>\n",
       "    </tr>\n",
       "    <tr>\n",
       "      <th>181</th>\n",
       "      <td>r_dist_tt_500</td>\n",
       "      <td>-0.029899</td>\n",
       "    </tr>\n",
       "    <tr>\n",
       "      <th>183</th>\n",
       "      <td>o_dist_lf_500</td>\n",
       "      <td>-0.041188</td>\n",
       "    </tr>\n",
       "    <tr>\n",
       "      <th>288</th>\n",
       "      <td>p_religiousplace_os_nc_500</td>\n",
       "      <td>-0.041234</td>\n",
       "    </tr>\n",
       "    <tr>\n",
       "      <th>213</th>\n",
       "      <td>p_dist_hp_500</td>\n",
       "      <td>-0.070926</td>\n",
       "    </tr>\n",
       "    <tr>\n",
       "      <th>589</th>\n",
       "      <td>distance</td>\n",
       "      <td>-0.090851</td>\n",
       "    </tr>\n",
       "    <tr>\n",
       "      <th>211</th>\n",
       "      <td>p_dist_sc_500</td>\n",
       "      <td>-0.224473</td>\n",
       "    </tr>\n",
       "    <tr>\n",
       "      <th>210</th>\n",
       "      <td>p_dist_rt_500</td>\n",
       "      <td>-0.287864</td>\n",
       "    </tr>\n",
       "    <tr>\n",
       "      <th>212</th>\n",
       "      <td>p_dist_gc_500</td>\n",
       "      <td>-0.358521</td>\n",
       "    </tr>\n",
       "  </tbody>\n",
       "</table>\n",
       "</div>"
      ],
      "text/plain": [
       "                         features      coef\n",
       "582      bldg_area_total_perc_200  0.602705\n",
       "171         cn_fxb_int_spd_d_1000  0.246421\n",
       "469         p_residence_ap_nc_200  0.236644\n",
       "576        bldg_area_comm_avg_200  0.170584\n",
       "404          p_restaurant_cta_200  0.126764\n",
       "286         p_residence_ap_nc_500  0.098243\n",
       "257     p_entertainment_pk_nc_500  0.095591\n",
       "312         p_residence_rs_nc_500  0.094272\n",
       "588      bldg_area_total_perc_100  0.070429\n",
       "277        p_restaurant_rt_nc_500  0.034911\n",
       "303        p_restaurant_fd_nc_500  0.028928\n",
       "68         p_residence_ap_nc_1000  0.027200\n",
       "107       p_automotive_cw_nc_1000  0.025782\n",
       "329         p_education_cc_nc_500  0.022118\n",
       "583        bldg_area_comm_avg_100  0.018942\n",
       "142          br_salons_cm_nc_1000  0.012483\n",
       "572          d_restaurant_cta_200  0.006694\n",
       "124       p_restaurant_cm_nc_1000  0.004680\n",
       "129          br_school_ch_nc_1000  0.002110\n",
       "232        p_restaurant_cf_nc_500  0.001045\n",
       "50           p_transit_tr_nc_1000 -0.003373\n",
       "333  p_communityservice_ct_nc_500 -0.016716\n",
       "578       bldg_area_total_avg_200 -0.022980\n",
       "181                 r_dist_tt_500 -0.029899\n",
       "183                 o_dist_lf_500 -0.041188\n",
       "288    p_religiousplace_os_nc_500 -0.041234\n",
       "213                 p_dist_hp_500 -0.070926\n",
       "589                      distance -0.090851\n",
       "211                 p_dist_sc_500 -0.224473\n",
       "210                 p_dist_rt_500 -0.287864\n",
       "212                 p_dist_gc_500 -0.358521"
      ]
     },
     "execution_count": 240,
     "metadata": {},
     "output_type": "execute_result"
    }
   ],
   "source": [
    "imp[imp['coef']!=0]"
   ]
  },
  {
   "cell_type": "markdown",
   "id": "a6edb10d",
   "metadata": {},
   "source": [
    "<h4> As we can observe, along with other features, distance comes out to be negatively impacting the bookings, which implies users prefer booking at an outlet near their location</h4>"
   ]
  },
  {
   "cell_type": "markdown",
   "id": "820d4df4",
   "metadata": {},
   "source": [
    "<h3> Predictions</h3>"
   ]
  },
  {
   "cell_type": "code",
   "execution_count": 241,
   "id": "f68358b9",
   "metadata": {
    "ExecuteTime": {
     "end_time": "2023-10-04T10:49:58.780498Z",
     "start_time": "2023-10-04T10:49:58.686390Z"
    }
   },
   "outputs": [],
   "source": [
    "to_predict = features.copy(deep=True)\n",
    "to_predict = to_predict.dropna().reset_index(drop=True)\n",
    "to_predict['distance'] = 1\n",
    "\n",
    "to_predict_scaled = scaling_fit.transform(to_predict[feats])\n",
    "to_predict_scaled = pd.DataFrame(to_predict_scaled)\n",
    "to_predict_scaled.columns = X_train.columns\n",
    "\n",
    "to_predict_scaled['log_preds'] = model.predict(to_predict_scaled)\n",
    "to_predict_scaled['preds'] = np.exp(to_predict_scaled['log_preds'])-1\n",
    "\n",
    "to_predict_scaled['preds'] = np.where(to_predict_scaled['preds']>outlier,outlier,to_predict_scaled['preds'])\n",
    "\n",
    "to_predict_scaled['hex9'] = to_predict['hex9']"
   ]
  },
  {
   "cell_type": "code",
   "execution_count": 242,
   "id": "79d0347c",
   "metadata": {
    "ExecuteTime": {
     "end_time": "2023-10-04T10:50:01.967302Z",
     "start_time": "2023-10-04T10:50:01.961679Z"
    }
   },
   "outputs": [],
   "source": [
    "to_predict_scaled['preds'] = np.where(to_predict_scaled['preds']<0,0,to_predict_scaled['preds'])\n",
    "to_predict_scaled['preds_perc'] = to_predict_scaled['preds']/to_predict_scaled['preds'].sum()\n",
    "to_predict_scaled['tam'] = to_predict_scaled['preds_perc'] * 2000000"
   ]
  },
  {
   "cell_type": "markdown",
   "id": "d8c4c21d",
   "metadata": {},
   "source": [
    "<h4> The above TAM number of 20,00,000 is an approximation of the total number of people that can be a customer</h4>\n",
    "\n",
    "<p> This number can be varied based on business discussions, market research and demographic analysis</p>"
   ]
  }
 ],
 "metadata": {
  "kernelspec": {
   "display_name": "Python 3",
   "language": "python",
   "name": "python3"
  },
  "language_info": {
   "codemirror_mode": {
    "name": "ipython",
    "version": 3
   },
   "file_extension": ".py",
   "mimetype": "text/x-python",
   "name": "python",
   "nbconvert_exporter": "python",
   "pygments_lexer": "ipython3",
   "version": "3.9.5"
  },
  "toc": {
   "base_numbering": 1,
   "nav_menu": {},
   "number_sections": true,
   "sideBar": true,
   "skip_h1_title": false,
   "title_cell": "Table of Contents",
   "title_sidebar": "Contents",
   "toc_cell": false,
   "toc_position": {
    "height": "calc(100% - 180px)",
    "left": "10px",
    "top": "150px",
    "width": "384px"
   },
   "toc_section_display": true,
   "toc_window_display": true
  }
 },
 "nbformat": 4,
 "nbformat_minor": 5
}
